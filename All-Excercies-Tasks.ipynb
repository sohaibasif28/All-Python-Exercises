{
 "cells": [
  {
   "cell_type": "markdown",
   "metadata": {},
   "source": [
    "# CHAPTER : 01\n"
   ]
  },
  {
   "cell_type": "code",
   "execution_count": 1,
   "metadata": {},
   "outputs": [
    {
     "name": "stdout",
     "output_type": "stream",
     "text": [
      "Hello World\n"
     ]
    }
   ],
   "source": [
    "print('Hello World')"
   ]
  },
  {
   "cell_type": "markdown",
   "metadata": {},
   "source": [
    "\n",
    "# CHAPTER : 02"
   ]
  },
  {
   "cell_type": "code",
   "execution_count": 2,
   "metadata": {},
   "outputs": [
    {
     "name": "stdout",
     "output_type": "stream",
     "text": [
      "Hello Python world!\n"
     ]
    }
   ],
   "source": [
    "message = 'Hello Python world!'\n",
    "print(message)"
   ]
  },
  {
   "cell_type": "code",
   "execution_count": 4,
   "metadata": {},
   "outputs": [
    {
     "name": "stdout",
     "output_type": "stream",
     "text": [
      "Hello Sohaib\n"
     ]
    }
   ],
   "source": [
    "message = 'Hello Sohaib'\n",
    "print(message)"
   ]
  },
  {
   "cell_type": "code",
   "execution_count": 5,
   "metadata": {},
   "outputs": [
    {
     "name": "stdout",
     "output_type": "stream",
     "text": [
      "Hello Python world!\n",
      "Hello Sohaib\n"
     ]
    }
   ],
   "source": [
    "message = 'Hello Python world!'\n",
    "print(message)\n",
    "message = 'Hello Sohaib'\n",
    "print(message)"
   ]
  },
  {
   "cell_type": "markdown",
   "metadata": {},
   "source": [
    "#ex 2.1"
   ]
  },
  {
   "cell_type": "code",
   "execution_count": 6,
   "metadata": {},
   "outputs": [],
   "source": [
    "abc = 'Sohaib'"
   ]
  },
  {
   "cell_type": "code",
   "execution_count": 7,
   "metadata": {},
   "outputs": [
    {
     "name": "stdout",
     "output_type": "stream",
     "text": [
      "Sohaib\n"
     ]
    }
   ],
   "source": [
    "print(abc)"
   ]
  },
  {
   "cell_type": "markdown",
   "metadata": {},
   "source": [
    "#ex2.2"
   ]
  },
  {
   "cell_type": "code",
   "execution_count": 8,
   "metadata": {},
   "outputs": [
    {
     "name": "stdout",
     "output_type": "stream",
     "text": [
      "Sohaib\n",
      "John\n"
     ]
    }
   ],
   "source": [
    "a = 'Sohaib'\n",
    "print(a)\n",
    "b = 'John'\n",
    "print(b)"
   ]
  },
  {
   "cell_type": "code",
   "execution_count": 9,
   "metadata": {},
   "outputs": [
    {
     "name": "stdout",
     "output_type": "stream",
     "text": [
      "Ada Lovelace\n"
     ]
    }
   ],
   "source": [
    "name = 'ada lovelace'\n",
    "print(name.title())"
   ]
  },
  {
   "cell_type": "code",
   "execution_count": 2,
   "metadata": {},
   "outputs": [
    {
     "name": "stdout",
     "output_type": "stream",
     "text": [
      "ada lovelace\n"
     ]
    }
   ],
   "source": [
    "first_name = \"ada\" \n",
    "last_name = \"lovelace\" \n",
    "full_name = first_name + \" \" + last_name\n",
    "print(full_name)"
   ]
  },
  {
   "cell_type": "markdown",
   "metadata": {},
   "source": [
    "# CHAPTER : 03"
   ]
  },
  {
   "cell_type": "code",
   "execution_count": 3,
   "metadata": {},
   "outputs": [
    {
     "name": "stdout",
     "output_type": "stream",
     "text": [
      "['honda', 'maruti', 'unique']\n"
     ]
    }
   ],
   "source": [
    "bicycles = ['honda', 'maruti', 'unique']\n",
    "print(bicycles)"
   ]
  },
  {
   "cell_type": "code",
   "execution_count": 5,
   "metadata": {},
   "outputs": [
    {
     "name": "stdout",
     "output_type": "stream",
     "text": [
      "maruti\n"
     ]
    }
   ],
   "source": [
    "print(bicycles[1])"
   ]
  },
  {
   "cell_type": "code",
   "execution_count": 6,
   "metadata": {},
   "outputs": [
    {
     "name": "stdout",
     "output_type": "stream",
     "text": [
      "Unique\n"
     ]
    }
   ],
   "source": [
    "print(bicycles[2].title())"
   ]
  },
  {
   "cell_type": "markdown",
   "metadata": {},
   "source": [
    "ex 3.1"
   ]
  },
  {
   "cell_type": "code",
   "execution_count": 8,
   "metadata": {},
   "outputs": [],
   "source": [
    "a = ['sohaib', 'khalid', 'ehtisham']"
   ]
  },
  {
   "cell_type": "code",
   "execution_count": 9,
   "metadata": {},
   "outputs": [
    {
     "name": "stdout",
     "output_type": "stream",
     "text": [
      "sohaib\n",
      "khalid\n",
      "ehtisham\n"
     ]
    }
   ],
   "source": [
    "print(a[0])\n",
    "print(a[1])\n",
    "print(a[2])"
   ]
  },
  {
   "cell_type": "code",
   "execution_count": 13,
   "metadata": {},
   "outputs": [
    {
     "name": "stdout",
     "output_type": "stream",
     "text": [
      "Hello sohaib\n",
      "Hello khalid\n",
      "Hello ehtisham\n"
     ]
    }
   ],
   "source": [
    "#ex 3.2\n",
    "message = 'Hello ' + a[0]\n",
    "print(message)\n",
    "message1 = 'Hello ' + a[1]\n",
    "print(message1)\n",
    "message2 = 'Hello '  + a[2]\n",
    "print(message2)"
   ]
  },
  {
   "cell_type": "code",
   "execution_count": 16,
   "metadata": {},
   "outputs": [
    {
     "name": "stdout",
     "output_type": "stream",
     "text": [
      "Hello sohaib, have dinner with us\n",
      "Hello khalid, have dinner with us\n",
      "Hello ehtisham, have dinner with us\n"
     ]
    }
   ],
   "source": [
    "#ex:3.3\n",
    "message = 'Hello ' + a[0] + ', have dinner with us'\n",
    "print(message)\n",
    "message1 = 'Hello ' + a[1] + ', have dinner with us'\n",
    "print(message1)\n",
    "message2 = 'Hello '  + a[2] + ', have dinner with us'\n",
    "print(message2)"
   ]
  },
  {
   "cell_type": "code",
   "execution_count": 18,
   "metadata": {},
   "outputs": [
    {
     "name": "stdout",
     "output_type": "stream",
     "text": [
      "sohaibyou are invited\n",
      "khalidyou are invited\n",
      "ehtishamyou are invited\n"
     ]
    }
   ],
   "source": [
    "#ex 3.4\n",
    "invited_persons=[\"sohaib\",\"khalid\",\"ehtisham\"]\n",
    "print(invited_persons[0]+\"you are invited\")\n",
    "print(invited_persons[1]+\"you are invited\")\n",
    "print(invited_persons[2]+\"you are invited\")\n"
   ]
  },
  {
   "cell_type": "code",
   "execution_count": 19,
   "metadata": {},
   "outputs": [
    {
     "name": "stdout",
     "output_type": "stream",
     "text": [
      "ehtishamthis person is not available\n",
      "sohaibyou are invited\n",
      "amiryou are invited\n",
      "ehtishamyou are invited\n"
     ]
    }
   ],
   "source": [
    "#ex 3.5\n",
    "print(invited_persons[2]+\"this person is not available\")\n",
    "invited_persons[1]=\"amir\"\n",
    "print(invited_persons[0]+\"you are invited\")\n",
    "print(invited_persons[1]+\"you are invited\")\n",
    "print(invited_persons[2]+\"you are invited\")\n"
   ]
  },
  {
   "cell_type": "code",
   "execution_count": 20,
   "metadata": {},
   "outputs": [
    {
     "name": "stdout",
     "output_type": "stream",
     "text": [
      "harisyou are invited\n",
      "sohaibyou are invited\n",
      "raziqyou are invited\n"
     ]
    }
   ],
   "source": [
    "#ex 3.6\n",
    "invited_persons.insert(0,\"haris\")\n",
    "invited_persons.insert(2,\"raziq\")\n",
    "invited_persons.append(\"shazil\")\n",
    "print(invited_persons[0]+\"you are invited\")\n",
    "print(invited_persons[1]+\"you are invited\")\n",
    "print(invited_persons[2]+\"you are invited\")"
   ]
  },
  {
   "cell_type": "code",
   "execution_count": 21,
   "metadata": {},
   "outputs": [
    {
     "name": "stdout",
     "output_type": "stream",
     "text": [
      "you can invite only 2 person your current list is\n",
      "['haris', 'sohaib', 'raziq', 'amir', 'ehtisham', 'shazil']\n",
      "shazil sorry you can’t invite them to dinner\n",
      "ehtisham sorry you can’t invite them to dinner\n",
      "amir sorry you can’t invite them to dinner\n",
      "raziq sorry you can’t invite them to dinner\n",
      "haris you are still invided\n",
      "sohaib you are still invited\n",
      "[]\n"
     ]
    }
   ],
   "source": [
    "#ex 3.7\n",
    "print(\"you can invite only 2 person your current list is\")\n",
    "print(invited_persons)\n",
    "print(invited_persons.pop()+\" sorry you can’t invite them to dinner\")\n",
    "print(invited_persons.pop()+\" sorry you can’t invite them to dinner\")\n",
    "print(invited_persons.pop()+\" sorry you can’t invite them to dinner\")\n",
    "print(invited_persons.pop()+\" sorry you can’t invite them to dinner\")\n",
    "print(invited_persons[0]+\" you are still invided\")\n",
    "print(invited_persons[1]+\" you are still invited\")\n",
    "del invited_persons[1]\n",
    "del invited_persons[0]\n",
    "print(invited_persons)\n"
   ]
  },
  {
   "cell_type": "code",
   "execution_count": 22,
   "metadata": {},
   "outputs": [
    {
     "name": "stdout",
     "output_type": "stream",
     "text": [
      "['Pakistan', 'China', 'UAE', 'US', 'Africa']\n",
      "['Pakistan', 'China', 'UAE', 'US', 'Africa']\n",
      "['Pakistan', 'China', 'UAE', 'US', 'Africa']\n",
      "['Africa', 'China', 'Pakistan', 'UAE', 'US']\n"
     ]
    }
   ],
   "source": [
    "#ex 3.8\n",
    "my_places=[\"Pakistan\",\"China\",\"UAE\",\"US\",\"Africa\"]\n",
    "print(my_places)\n",
    "\n",
    "sorted(my_places)\n",
    "print(my_places)\n",
    "\n",
    "sorted(my_places,reverse=True)\n",
    "print(my_places)\n",
    "\n",
    "my_places.sort()\n",
    "print(my_places)"
   ]
  },
  {
   "cell_type": "code",
   "execution_count": 23,
   "metadata": {},
   "outputs": [
    {
     "name": "stdout",
     "output_type": "stream",
     "text": [
      "Total place is 5\n"
     ]
    }
   ],
   "source": [
    "#ex 3.9\n",
    "print(\"Total place is \"+ str(len(my_places)))"
   ]
  },
  {
   "cell_type": "markdown",
   "metadata": {},
   "source": [
    "# CHAPTER : 04"
   ]
  },
  {
   "cell_type": "code",
   "execution_count": 24,
   "metadata": {},
   "outputs": [
    {
     "name": "stdout",
     "output_type": "stream",
     "text": [
      "BBQ\n",
      "Fagita\n",
      "Maliboti\n",
      "BBQ is my fvt pizza\n",
      "Fagita is my fvt pizza\n",
      "Maliboti is my fvt pizza\n",
      "I realy love pizza\n"
     ]
    }
   ],
   "source": [
    "#EX 4.1\n",
    "my_fvt_pizza=[\"BBQ\",\"Fagita\",\"Maliboti\"]\n",
    "for pizza in my_fvt_pizza:\n",
    "    print(pizza)\n",
    "for pizza in my_fvt_pizza:\n",
    "    print(pizza+\" is my fvt pizza\") \n",
    "print(\"I realy love pizza\")"
   ]
  },
  {
   "cell_type": "code",
   "execution_count": 25,
   "metadata": {},
   "outputs": [
    {
     "name": "stdout",
     "output_type": "stream",
     "text": [
      "Dog\n",
      "Cat\n",
      "Cow\n",
      "Dog is my fvt animal\n",
      "Cat is my fvt animal\n",
      "Cow is my fvt animal\n",
      "All of there are my fvt aminal\n"
     ]
    }
   ],
   "source": [
    "# EX 4.2\n",
    "my_fvt_animal=[\"Dog\",\"Cat\",\"Cow\"]\n",
    "for animal in my_fvt_animal:\n",
    "    print(animal)\n",
    "for animal in my_fvt_animal:\n",
    "    print(animal+\" is my fvt animal\")\n",
    "print(\"All of there are my fvt aminal\")"
   ]
  },
  {
   "cell_type": "code",
   "execution_count": 26,
   "metadata": {},
   "outputs": [
    {
     "name": "stdout",
     "output_type": "stream",
     "text": [
      "1\n",
      "2\n",
      "3\n",
      "4\n",
      "5\n",
      "6\n",
      "7\n",
      "8\n",
      "9\n",
      "10\n",
      "11\n",
      "12\n",
      "13\n",
      "14\n",
      "15\n",
      "16\n",
      "17\n",
      "18\n",
      "19\n",
      "20\n"
     ]
    }
   ],
   "source": [
    "#ex4.3\n",
    "for number in range(1,21):\n",
    "    print(number)"
   ]
  },
  {
   "cell_type": "code",
   "execution_count": 27,
   "metadata": {},
   "outputs": [
    {
     "name": "stdout",
     "output_type": "stream",
     "text": [
      "1\n",
      "20\n",
      "210\n"
     ]
    }
   ],
   "source": [
    "\n",
    "#4-4\n",
    "number_list=[]\n",
    "for number in range(1,21):\n",
    "    number_list.append(number)\n",
    "print(min(number_list))\n",
    "print(max(number_list))\n",
    "print(sum(number_list))"
   ]
  },
  {
   "cell_type": "code",
   "execution_count": 28,
   "metadata": {},
   "outputs": [
    {
     "name": "stdout",
     "output_type": "stream",
     "text": [
      "1\n",
      "20\n",
      "210\n"
     ]
    }
   ],
   "source": [
    "# ex4.7\n",
    "number_list=[]\n",
    "for number in range(1,21):\n",
    "    number_list.append(number)\n",
    "print(min(number_list))\n",
    "print(max(number_list))\n",
    "print(sum(number_list))"
   ]
  },
  {
   "cell_type": "code",
   "execution_count": 29,
   "metadata": {},
   "outputs": [
    {
     "name": "stdout",
     "output_type": "stream",
     "text": [
      "[1, 8, 27, 64, 125, 216, 343, 512, 729, 1000]\n"
     ]
    }
   ],
   "source": [
    "# 4.9\n",
    "print([cube**3 for cube in range(1,11)])"
   ]
  },
  {
   "cell_type": "code",
   "execution_count": 30,
   "metadata": {},
   "outputs": [
    {
     "name": "stdout",
     "output_type": "stream",
     "text": [
      "my list [1, 2, 3, 4, 5, 6, 7]\n",
      "The first three items in the list are\n",
      "[1, 2, 3]\n",
      "Three items from the middle of the list are\n",
      "[3, 4, 5]\n",
      "The last three items in the list are\n",
      "[5, 6, 7]\n"
     ]
    }
   ],
   "source": [
    "#ex 4.10\n",
    "my_number=[1,2,3,4,5,6,7]\n",
    "print(\"my list \"+ str(my_number))\n",
    "print(\"The first three items in the list are\")\n",
    "print(my_number[:3])\n",
    "print(\"Three items from the middle of the list are\")\n",
    "print(my_number[2:5])\n",
    "print(\"The last three items in the list are\")\n",
    "print(my_number[4:7])"
   ]
  },
  {
   "cell_type": "code",
   "execution_count": 31,
   "metadata": {},
   "outputs": [
    {
     "name": "stdout",
     "output_type": "stream",
     "text": [
      "My Fvt pizza list\n",
      "BBQ\n",
      "Fagita\n",
      "Maliboti\n",
      "RedHot\n",
      "My friend pizza list\n",
      "ChezPizaa\n",
      "OlivePizza\n",
      "SpicyPizza\n",
      "BBQ\n",
      "Comparing fvt pizza between me and my friend\n",
      "BBQ\n"
     ]
    }
   ],
   "source": [
    "#ex 4.11\n",
    "my_fvt_pizza=[\"BBQ\",\"Fagita\",\"Maliboti\"]\n",
    "my_friend_fvt_pizza=[\"ChezPizaa\",\"OlivePizza\",\"SpicyPizza\"]\n",
    "my_fvt_pizza.append(\"RedHot\")\n",
    "print(\"My Fvt pizza list\")\n",
    "for pizza in my_fvt_pizza:\n",
    "    print(pizza)\n",
    "my_friend_fvt_pizza.append(\"BBQ\")    \n",
    "print(\"My friend pizza list\")\n",
    "for pizza in my_friend_fvt_pizza:\n",
    "    print(pizza)\n",
    "# same fvt pizza between me and my friend\n",
    "print(\"Comparing fvt pizza between me and my friend\")\n",
    "for same_pizza in my_fvt_pizza:\n",
    "    if same_pizza in my_friend_fvt_pizza:\n",
    "        print(same_pizza)"
   ]
  },
  {
   "cell_type": "code",
   "execution_count": 32,
   "metadata": {},
   "outputs": [
    {
     "name": "stdout",
     "output_type": "stream",
     "text": [
      "manue is........ BBQ\n",
      "manue is........ Biryani\n",
      "manue is........ ZingerBurger\n",
      "After update new manu is\n",
      "manue is........ FriedRice\n",
      "manue is........ Soop\n",
      "manue is........ Haleem\n"
     ]
    }
   ],
   "source": [
    "#ex 4.13\n",
    "resturent_manu=(\"BBQ\",\"Biryani\",\"ZingerBurger\")\n",
    "for item in resturent_manu:\n",
    "    print(\"manue is........ \"+ item)\n",
    "print(\"After update new manu is\")    \n",
    "resturent_manu=(\"FriedRice\",\"Soop\",\"Haleem\")\n",
    "for item in resturent_manu:\n",
    "    print(\"manue is........ \"+ item)"
   ]
  },
  {
   "cell_type": "markdown",
   "metadata": {},
   "source": [
    "# CHAPTER : 05"
   ]
  },
  {
   "cell_type": "code",
   "execution_count": 33,
   "metadata": {},
   "outputs": [
    {
     "name": "stdout",
     "output_type": "stream",
     "text": [
      "Is car == 'subaru'? I predict True.\n",
      "True\n",
      "\n",
      "Is car == 'audi'? I predict False.\n",
      "False\n"
     ]
    }
   ],
   "source": [
    "#ex 5.1\n",
    "car = 'subaru'\n",
    "print(\"Is car == 'subaru'? I predict True.\")\n",
    "print(car == 'subaru')\n",
    "print(\"\\nIs car == 'audi'? I predict False.\")\n",
    "print(car == 'audi')"
   ]
  },
  {
   "cell_type": "code",
   "execution_count": 34,
   "metadata": {},
   "outputs": [
    {
     "name": "stdout",
     "output_type": "stream",
     "text": [
      "number is less then 100\n",
      "False\n",
      "True\n",
      "True\n",
      "False\n",
      "Number Found\n",
      "Number Not Found\n"
     ]
    }
   ],
   "source": [
    "#ex 5.2\n",
    "number=99\n",
    "if number>100:\n",
    "    print(\"number is greater then 100\")\n",
    "elif(number<100):\n",
    "    print(\"number is less then 100\")\n",
    "else:\n",
    "    print(\"number is equal to 1000\")\n",
    "\n",
    "print(\"a\">\"b\")\n",
    "print(\"a\"<\"b\")\n",
    "print(\"a\"==\"a\")\n",
    "print(\"a\"==\"b\".upper())\n",
    "num=99\n",
    "if num in [12,20,99]:\n",
    "    print(\"Number Found\")\n",
    "if num not in [12,20,999]:\n",
    "    print(\"Number Not Found\")"
   ]
  },
  {
   "cell_type": "code",
   "execution_count": 35,
   "metadata": {},
   "outputs": [
    {
     "name": "stdout",
     "output_type": "stream",
     "text": [
      "player got 5 points\n"
     ]
    }
   ],
   "source": [
    "#ex 5.3\n",
    "alien_color=[\"green\",\"yellow\",\"red\"]\n",
    "\n",
    "if \"green\" in alien_color:\n",
    "    print(\"player got 5 points\") \n",
    "else:\n",
    "    print(\"player got 0 point\")"
   ]
  },
  {
   "cell_type": "code",
   "execution_count": 36,
   "metadata": {},
   "outputs": [
    {
     "name": "stdout",
     "output_type": "stream",
     "text": [
      "player got 15 point\n"
     ]
    }
   ],
   "source": [
    "#ex5.5\n",
    "color=\"red\"\n",
    "if color==\"green\" :\n",
    "    print(\"player got 5 points\") \n",
    "elif (color==\"yellow\"):\n",
    "    print(\"player got 10 point\")\n",
    "elif (color=='red'):\n",
    "    print(\"player got 15 point\")\n",
    "else:\n",
    "    print(\"player got 0 point\")"
   ]
  },
  {
   "cell_type": "code",
   "execution_count": 37,
   "metadata": {},
   "outputs": [
    {
     "name": "stdout",
     "output_type": "stream",
     "text": [
      "the person is a kid.\n"
     ]
    }
   ],
   "source": [
    "# ex 5.6\n",
    "age=10\n",
    "if age<2:\n",
    "    print(\"the person is a baby\")\n",
    "elif age >= 2 and age<=4:\n",
    "    print(\"the person is a toddler.\")   \n",
    "elif age>=4 and age<=13:\n",
    "    print(\"the person is a kid.\")  \n",
    "elif age>=13 and age<=20:\n",
    "    print(\"the person is a teenager.\")\n",
    "elif age>=20 and age<=65:\n",
    "    print(\"the person is an adult.\")\n",
    "else:\n",
    "    print(\"the person is an elder\")"
   ]
  },
  {
   "cell_type": "code",
   "execution_count": 38,
   "metadata": {},
   "outputs": [
    {
     "name": "stdout",
     "output_type": "stream",
     "text": [
      "apple in my list\n",
      "mango in my list\n"
     ]
    }
   ],
   "source": [
    "\n",
    "# ex 5 7\n",
    "fruite_list=[\"apple\",\"mango\",\"orange\",\"banan\"]\n",
    "if \"banana\" in fruite_list:\n",
    "    print(\"banana in my list\")\n",
    "if \"graps\" in fruite_list:\n",
    "    print(\"graps in my list\") \n",
    "if \"apple\" in fruite_list:\n",
    "    print(\"apple in my list\")\n",
    "if \"mango\" in fruite_list:\n",
    "    print(\"mango in my list\") \n",
    "if \"redgraps\" in fruite_list:\n",
    "    print(\"redgraps in my list\")"
   ]
  },
  {
   "cell_type": "code",
   "execution_count": 39,
   "metadata": {},
   "outputs": [
    {
     "name": "stdout",
     "output_type": "stream",
     "text": [
      "Hi amir thanks for login\n",
      "HELLOW---Admin\n",
      "Hi ali thanks for login\n",
      "Hi khan thanks for login\n",
      "HELLOW---Admin\n"
     ]
    }
   ],
   "source": [
    "#5.8\n",
    "user_logs=[\"amir\",\"admin\",\"ali\",\"khan\",\"admin\"]\n",
    "for user in user_logs:\n",
    "    if user==\"admin\":\n",
    "        print(\"HELLOW---Admin\")\n",
    "    else:\n",
    "        print(f\"Hi {user} thanks for login\")"
   ]
  },
  {
   "cell_type": "code",
   "execution_count": 40,
   "metadata": {},
   "outputs": [
    {
     "name": "stdout",
     "output_type": "stream",
     "text": [
      "we need to add some user logs\n"
     ]
    }
   ],
   "source": [
    "#ex 5.9\n",
    "user_logs=[]\n",
    "if len(user_logs):\n",
    "    for user in user_logs:\n",
    "        if user==\"admin\":\n",
    "            print(\"HELLOW---Admin\")\n",
    "        else:\n",
    "            print(f\"Hi {user} thanks for login\")\n",
    "else:\n",
    "    print(\"we need to add some user logs\")"
   ]
  },
  {
   "cell_type": "code",
   "execution_count": 41,
   "metadata": {},
   "outputs": [
    {
     "name": "stdout",
     "output_type": "stream",
     "text": [
      "this name already use change your name\n",
      "this name already use change your name\n",
      "this is new user\n",
      "this name already use change your name\n",
      "this is new user\n"
     ]
    }
   ],
   "source": [
    "# 5.10\n",
    "current_user=[\"nabeel\",\"amir\",\"owasi\",\"anas\",\"ali\"]\n",
    "new_user=[\"hassan\",\"qasim\",\"amir\",\"anas\",\"nabeel\"]\n",
    "for user in current_user:\n",
    "    if user in new_user:\n",
    "        print(\"this name already use change your name\")\n",
    "    else:\n",
    "        print(\"this is new user\")"
   ]
  },
  {
   "cell_type": "code",
   "execution_count": 42,
   "metadata": {},
   "outputs": [
    {
     "name": "stdout",
     "output_type": "stream",
     "text": [
      "1st\n",
      "2nd\n",
      "3rd\n",
      "4th\n",
      "5th\n",
      "6th\n",
      "7th\n",
      "8th\n",
      "9th\n"
     ]
    }
   ],
   "source": [
    "# 5.11\n",
    "number_list=[x for x in range(1,10)]\n",
    "for number in number_list:\n",
    "    if number==1:\n",
    "        print(str(number)+\"st\")\n",
    "    elif number==2:\n",
    "        print(str(number)+\"nd\")\n",
    "    elif number==3:\n",
    "        print(str(number)+\"rd\")\n",
    "    else:\n",
    "        print(str(number)+\"th\")"
   ]
  },
  {
   "cell_type": "markdown",
   "metadata": {},
   "source": [
    "# CHAPTER : 06"
   ]
  },
  {
   "cell_type": "code",
   "execution_count": 44,
   "metadata": {},
   "outputs": [
    {
     "name": "stdout",
     "output_type": "stream",
     "text": [
      "green\n",
      "5\n"
     ]
    }
   ],
   "source": [
    "alien_0 = {'color': 'green', 'points': 5}\n",
    "print(alien_0['color']) \n",
    "print(alien_0['points'])"
   ]
  },
  {
   "cell_type": "code",
   "execution_count": 45,
   "metadata": {},
   "outputs": [
    {
     "name": "stdout",
     "output_type": "stream",
     "text": [
      "Hi i am Sohaib Asif my age is 22 and my current city is Karachi\n"
     ]
    }
   ],
   "source": [
    "# Q 6.1\n",
    "person_dic={\"FirstName\":\"Sohaib\",\"LastName\":\"Asif\",\"Age\":22,\"City\":\"Karachi\"}\n",
    "fullname=person_dic[\"FirstName\"]+\" \"+person_dic[\"LastName\"]\n",
    "print(f\"Hi i am {fullname} my age is {person_dic['Age']} and my current city is {person_dic['City']}\" )"
   ]
  },
  {
   "cell_type": "code",
   "execution_count": 53,
   "metadata": {},
   "outputs": [
    {
     "name": "stdout",
     "output_type": "stream",
     "text": [
      "The name of friend is Sohaib and its value is 10\n",
      "The name of friend is Raziq and its value is 1\n",
      "The name of friend is Shah and its value is 12\n",
      "The name of friend is Zain and its value is 2\n"
     ]
    }
   ],
   "source": [
    "# q 6.2\n",
    "fav_nums = {'Sohaib':10, 'Raziq':1, 'Shah':12, 'Zain':2}\n",
    "for key,value in fav_nums.items():\n",
    "    print(f'The name of friend is {key} and its value is {value}')"
   ]
  },
  {
   "cell_type": "code",
   "execution_count": 58,
   "metadata": {},
   "outputs": [
    {
     "name": "stdout",
     "output_type": "stream",
     "text": [
      "str : \n",
      "Its use to convert int to string\n",
      "\n",
      "split : \n",
      "It is used to split the string\n",
      "\n",
      "len : \n",
      "It returns the lengh of the giving input\n",
      "\n"
     ]
    }
   ],
   "source": [
    "#6-3\n",
    "python_methods={\"str\":\"Its use to convert int to string\",\"split\":\"It is used to split the string\",\"len\":\"It returns the lengh of the giving input\"}\n",
    "for key,value in python_methods.items():\n",
    "    print(key+\" : \\n\"+value+\"\\n\")"
   ]
  },
  {
   "cell_type": "code",
   "execution_count": 59,
   "metadata": {},
   "outputs": [
    {
     "name": "stdout",
     "output_type": "stream",
     "text": [
      "Jen\n",
      "Erin, please take our poll!\n",
      "Sarah\n",
      " Hi Sarah, I see your favorite language is C!\n",
      "Erin, please take our poll!\n",
      "Edward\n",
      "Erin, please take our poll!\n",
      "Phil\n",
      " Hi Phil, I see your favorite language is Python!\n",
      "Erin, please take our poll!\n"
     ]
    }
   ],
   "source": [
    "favorite_languages = {\n",
    "'jen': 'python',\n",
    "'sarah': 'c',\n",
    "'edward': 'ruby',\n",
    "'phil': 'python',\n",
    "}\n",
    "friends = ['phil', 'sarah']\n",
    "for name in favorite_languages.keys():\n",
    "    print(name.title())\n",
    "    if name in friends:\n",
    "            print(\" Hi \" + name.title() + \", I see your favorite language is \" +favorite_languages[name].title() + \"!\")\n",
    "    if 'erin' not in favorite_languages.keys():\n",
    "        \n",
    "        print(\"Erin, please take our poll!\")"
   ]
  },
  {
   "cell_type": "code",
   "execution_count": 60,
   "metadata": {},
   "outputs": [
    {
     "name": "stdout",
     "output_type": "stream",
     "text": [
      "jen\n",
      "sarah\n",
      "edward\n",
      "phil\n",
      ".............\n",
      "python\n",
      "c\n",
      "ruby\n",
      "python\n"
     ]
    }
   ],
   "source": [
    "favorite_languages = {\n",
    "'jen': 'python',\n",
    "'sarah': 'c',\n",
    "'edward': 'ruby',\n",
    "'phil': 'python',\n",
    "}\n",
    "for only_key in favorite_languages.keys():\n",
    "    print(only_key)\n",
    "print(\".............\")\n",
    "for only_value in favorite_languages.values():\n",
    "    print(only_value)"
   ]
  },
  {
   "cell_type": "code",
   "execution_count": 61,
   "metadata": {},
   "outputs": [
    {
     "name": "stdout",
     "output_type": "stream",
     "text": [
      "('str', 'Its use to conver int to string')\n",
      "('split', 'Its use to split the string')\n",
      "('len', 'Its return the lengh of the giving input')\n",
      "('count', 'Its use to count the word or anything in your given input')\n"
     ]
    }
   ],
   "source": [
    "# q 6.4\n",
    "python_methods={\"str\":\"Its use to conver int to string\",\"split\":\"Its use to split the string\",\"len\":\"Its return the lengh of the giving input\",\"count\":\"Its use to count the word or anything in your given input\"}\n",
    "for data in python_methods.items():\n",
    "    print(data)"
   ]
  },
  {
   "cell_type": "code",
   "execution_count": 62,
   "metadata": {},
   "outputs": [
    {
     "name": "stdout",
     "output_type": "stream",
     "text": [
      "Rever_A run through in Country_A\n",
      "Rever_B run through in Country_B\n",
      "Rever_C run through in Country_C\n",
      "Rivers Name ...... Rever_A\n",
      "Rivers Name ...... Rever_B\n",
      "Rivers Name ...... Rever_C\n",
      "Country Name.....Country_A\n",
      "Country Name.....Country_B\n",
      "Country Name.....Country_C\n"
     ]
    }
   ],
   "source": [
    "# q6.5\n",
    "River_Dic={\"Rever_A\":\"Country_A\",\"Rever_B\":\"Country_B\",\"Rever_C\":\"Country_C\"}\n",
    "for River,Country in River_Dic.items():\n",
    "    print(River +\" run through in \"+Country)\n",
    "for River in River_Dic.keys():\n",
    "    print(\"Rivers Name ...... \" +River)\n",
    "for Country in River_Dic.values():\n",
    "    print(\"Country Name.....\"+Country)"
   ]
  },
  {
   "cell_type": "code",
   "execution_count": 63,
   "metadata": {},
   "outputs": [
    {
     "name": "stdout",
     "output_type": "stream",
     "text": [
      "You ordered a thick-crust pizza with the following toppings:\n",
      "\tmushrooms\n",
      "\textra cheese\n"
     ]
    }
   ],
   "source": [
    "# ex 6.6\n",
    "pizza = {\n",
    "'crust': 'thick',\n",
    "'toppings': ['mushrooms', 'extra cheese'],}\n",
    "# Summarize the order.\n",
    "print(\"You ordered a \" + pizza['crust'] + \"-crust pizza \" +\"with the following toppings:\")\n",
    "for topping in pizza['toppings']:\n",
    "    print(\"\\t\" + topping)"
   ]
  },
  {
   "cell_type": "code",
   "execution_count": 64,
   "metadata": {},
   "outputs": [
    {
     "name": "stdout",
     "output_type": "stream",
     "text": [
      "\n",
      "Jen's favorite languages are:\n",
      "\tPython\n",
      "\tRuby\n",
      "\n",
      "Sarah's favorite languages are:\n",
      "\tC\n",
      "\n",
      "Edward's favorite languages are:\n",
      "\tRuby\n",
      "\tGo\n",
      "\n",
      "Phil's favorite languages are:\n",
      "\tPython\n",
      "\tHaskell\n"
     ]
    }
   ],
   "source": [
    "favorite_languages = {\n",
    "'jen': ['python', 'ruby'],\n",
    "'sarah': ['c'],\n",
    "'edward': ['ruby', 'go'],\n",
    "'phil': ['python', 'haskell'],\n",
    "}\n",
    "for name, languages in favorite_languages.items():\n",
    "    print(\"\\n\" + name.title() + \"'s favorite languages are:\")\n",
    "    for language in languages:\n",
    "        print(\"\\t\" + language.title())"
   ]
  },
  {
   "cell_type": "code",
   "execution_count": 69,
   "metadata": {},
   "outputs": [
    {
     "name": "stdout",
     "output_type": "stream",
     "text": [
      "Person Detail\n",
      "FirstName......Sohaib\n",
      "LastName......Anwar\n",
      "Age......22\n",
      "City......Karachi\n",
      "\n",
      "\n",
      "Person Detail\n",
      "FirstName......Zaki\n",
      "LastName......Xyz\n",
      "Age......19\n",
      "City......Karachi\n",
      "\n",
      "\n",
      "Person Detail\n",
      "FirstName......Raza\n",
      "LastName......Abc\n",
      "Age......25\n",
      "City......Karachi\n",
      "\n",
      "\n"
     ]
    }
   ],
   "source": [
    "# ex 6.7\n",
    "person_dic1={\"FirstName\":\"Sohaib\",\"LastName\":\"Anwar\",\"Age\":22,\"City\":\"Karachi\"}\n",
    "person_dic2={\"FirstName\":\"Zaki\",\"LastName\":\"Xyz\",\"Age\":19,\"City\":\"Karachi\"}\n",
    "person_dic3={\"FirstName\":\"Raza\",\"LastName\":\"Abc\",\"Age\":25,\"City\":\"Karachi\"}\n",
    "peoples=[person_dic1,person_dic2,person_dic3]\n",
    "for people in peoples:\n",
    "    print(\"Person Detail\")\n",
    "    for key, value in people.items():\n",
    "        print(key+\"......\"+str(value))\n",
    "    print(\"\\n\")"
   ]
  },
  {
   "cell_type": "code",
   "execution_count": 70,
   "metadata": {},
   "outputs": [
    {
     "name": "stdout",
     "output_type": "stream",
     "text": [
      "This Cat is own by Mir X and he love it\n",
      "This Dog is own by Mir X and he love it\n",
      "This Cow is own by Mir X and he love it\n"
     ]
    }
   ],
   "source": [
    "#ex 6.7\n",
    "pet1={\"Name\":\"Cat\",\"Detail\":\"is own by Mir X\"}\n",
    "pet2={\"Name\":\"Dog\",\"Detail\":\"is own by Mir X\"}\n",
    "pet3={\"Name\":\"Cow\",\"Detail\":\"is own by Mir X\"}\n",
    "pet_list=[pet1,pet2,pet3]\n",
    "for pet in pet_list:\n",
    "    # print(pet[\"Name\"]+pet[\"Detail\"])\n",
    "    print(\"This {0} {1} and he love it\".format(pet[\"Name\"],pet[\"Detail\"]))"
   ]
  },
  {
   "cell_type": "code",
   "execution_count": 74,
   "metadata": {},
   "outputs": [
    {
     "name": "stdout",
     "output_type": "stream",
     "text": [
      "Person name is ------Rashid\n",
      "Favourite Place is...... Khi\n",
      "Favourite Place is...... Lhr\n",
      " \n",
      "Person name is ------Raza\n",
      "Favourite Place is...... KPK\n",
      "Favourite Place is...... Pindi\n",
      " \n",
      "Person name is ------Sohaib\n",
      "Favourite Place is...... Sawat\n",
      "Favourite Place is...... Marri\n",
      "Favourite Place is...... Isl\n",
      " \n"
     ]
    }
   ],
   "source": [
    "#6-9\n",
    "favorite_places={\"Rashid\":[\"Khi\",\"Lhr\"],\"Raza\":[\"KPK\",\"Pindi\"],\"Sohaib\":[\"Sawat\",\"Marri\",\"Isl\"]}\n",
    "for name,places in favorite_places.items():\n",
    "    print(\"Person name is ------\"+name)\n",
    "    for place in places:\n",
    "        print(\"Favourite Place is...... \" +place)\n",
    "    print(\n",
    "        \" \")"
   ]
  },
  {
   "cell_type": "code",
   "execution_count": 76,
   "metadata": {},
   "outputs": [
    {
     "name": "stdout",
     "output_type": "stream",
     "text": [
      "Sohaib [9, 8, 7]\n",
      "Raza [1, 2, 3]\n"
     ]
    }
   ],
   "source": [
    "# q 6.10\n",
    "fvt_num={\"Sohaib\":[9,8,7],\"Raza\":[1,2,3]}\n",
    "for key,value in fvt_num.items():\n",
    "    print(key+\" \"+ str(value))"
   ]
  },
  {
   "cell_type": "code",
   "execution_count": 77,
   "metadata": {},
   "outputs": [
    {
     "name": "stdout",
     "output_type": "stream",
     "text": [
      "City Name is khi\n",
      "Population 2000\n",
      "Place SeaView\n",
      "City Name is Isl\n",
      "Population 1500\n",
      "Place Mosq\n",
      "City Name is Kpk\n",
      "Population 1000\n",
      "Place Hills\n"
     ]
    }
   ],
   "source": [
    "# q 6.11\n",
    "cities={\"khi\":{\"Population\":2000,\"Place\":\"SeaView\"},\"Isl\":{\"Population\":1500,\"Place\":\"Mosq\"},\"Kpk\":{\"Population\":1000,\"Place\":\"Hills\"}}\n",
    "for name,detail in cities.items():\n",
    "    print(\"City Name is \"+name)\n",
    "    for key, value in detail.items():\n",
    "        print(key+\" \"+str(value))"
   ]
  },
  {
   "cell_type": "markdown",
   "metadata": {},
   "source": [
    "# CHAPTER : 07"
   ]
  },
  {
   "cell_type": "code",
   "execution_count": 80,
   "metadata": {},
   "outputs": [
    {
     "name": "stdout",
     "output_type": "stream",
     "text": [
      "Enter the car you want : Lamborghini\n",
      "The car is Lamborghini found in rental base\n"
     ]
    }
   ],
   "source": [
    "# q 7.1\n",
    "carChoice = input(\"Enter the car you want : \")\n",
    "print(f'The car is {carChoice} found in rental base')"
   ]
  },
  {
   "cell_type": "code",
   "execution_count": 84,
   "metadata": {},
   "outputs": [
    {
     "name": "stdout",
     "output_type": "stream",
     "text": [
      "How many seat you want to reserved?3\n",
      "Table ready, Enjoy the food\n"
     ]
    }
   ],
   "source": [
    "#q 7.2\n",
    "restSeat=int(input(\"How many seat you want to reserved?\"))\n",
    "if restSeat >8:\n",
    "    print(\"Wait for a table\")\n",
    "else:\n",
    "    print(\"Table ready, Enjoy the food\")"
   ]
  },
  {
   "cell_type": "code",
   "execution_count": 85,
   "metadata": {},
   "outputs": [
    {
     "name": "stdout",
     "output_type": "stream",
     "text": [
      "Enter a number2\n",
      "this is not the multiple of 10\n"
     ]
    }
   ],
   "source": [
    "#ex 7.3\n",
    "number=int(input(\"Enter a number\"))\n",
    "if number%10 ==0:\n",
    "    print(\"this is the multiple of 10\")\n",
    "else:\n",
    "    print(\"this is not the multiple of 10\")"
   ]
  },
  {
   "cell_type": "code",
   "execution_count": 88,
   "metadata": {},
   "outputs": [
    {
     "name": "stdout",
     "output_type": "stream",
     "text": [
      "Enter pizza topping detail or write quit for exitpepperoni\n",
      "Enter pizza topping detail or write quit for exitquit\n",
      "You will add ['pepperoni'] in your pizza\n"
     ]
    }
   ],
   "source": [
    "#ex 7.4\n",
    "condition=True\n",
    "topping=[]\n",
    "while condition:\n",
    "    user_input=input(\"Enter pizza topping detail or write quit for exit\")\n",
    "    if user_input == \"quit\":\n",
    "        condition= False\n",
    "    else:\n",
    "        topping.append(user_input)\n",
    "\n",
    "for topingg in topping:\n",
    "    print(f\"You will add {topping} in your pizza\")"
   ]
  },
  {
   "cell_type": "code",
   "execution_count": 89,
   "metadata": {},
   "outputs": [
    {
     "name": "stdout",
     "output_type": "stream",
     "text": [
      "Enter your age to get the ticket price2\n",
      "Your ticket is free\n",
      "Enter your age to get the ticket price0\n",
      "Your ticket is free\n"
     ]
    }
   ],
   "source": [
    "# q 7.5\n",
    "condition=True\n",
    "while condition:\n",
    "    age=int(input(\"Enter your age to get the ticket price\"))\n",
    "    if age==0:\n",
    "        condition=False\n",
    "\n",
    "    if age<=3:\n",
    "        print(\"Your ticket is free\")\n",
    "    elif age>3 and age<=12:\n",
    "        print(\"Your ticket is $10\")\n",
    "    else:\n",
    "        print(\"Your ticket price is $15\")"
   ]
  },
  {
   "cell_type": "code",
   "execution_count": 90,
   "metadata": {},
   "outputs": [
    {
     "name": "stdout",
     "output_type": "stream",
     "text": [
      "Enter your age to get the ticket price3\n",
      "Your ticket is free\n",
      "Enter your age to get the ticket price2\n",
      "Your ticket is free\n",
      "Enter your age to get the ticket price9\n",
      "Your ticket is $10\n",
      "Enter your age to get the ticket price-1\n"
     ]
    }
   ],
   "source": [
    "# q 7.6\n",
    "\n",
    "condition=5\n",
    "while condition:\n",
    "    age=int(input(\"Enter your age to get the ticket price\"))\n",
    "    if age ==-1:\n",
    "        break\n",
    "    condition=condition-1\n",
    "    if age==0:\n",
    "        condition=0\n",
    "\n",
    "\n",
    "    if age<=3:\n",
    "        print(\"Your ticket is free\")\n",
    "    elif age>3 and age<=12:\n",
    "        print(\"Your ticket is $10\")\n",
    "    else:\n",
    "        print(\"Your ticket price is $15\")"
   ]
  },
  {
   "cell_type": "code",
   "execution_count": null,
   "metadata": {},
   "outputs": [],
   "source": [
    "  num=0\n",
    "while True:\n",
    "    print(num)\n",
    "    num+=1"
   ]
  },
  {
   "cell_type": "code",
   "execution_count": 91,
   "metadata": {},
   "outputs": [
    {
     "name": "stdout",
     "output_type": "stream",
     "text": [
      "I made your chickensandwitch sandwitch\n",
      "I made your Beefsandwitch sandwitch\n",
      "I made your Eggsandwitch sandwitch\n",
      "I made your cheezsandwitch sandwitch\n",
      "['chickensandwitch', 'Beefsandwitch', 'Eggsandwitch', 'cheezsandwitch'] All are made for you\n"
     ]
    }
   ],
   "source": [
    "#q 7.8\n",
    "sandwitch_list=[\"chickensandwitch\",\"Beefsandwitch\",\"Eggsandwitch\",\"cheezsandwitch\"]\n",
    "finished_sanwitch=[]\n",
    "for sandwitch in sandwitch_list:\n",
    "    print(f\"I made your {sandwitch} sandwitch\")\n",
    "    finished_sanwitch.append(sandwitch)\n",
    "print(str(finished_sanwitch)+\" \"+\"All are made for you\")"
   ]
  },
  {
   "cell_type": "code",
   "execution_count": 94,
   "metadata": {},
   "outputs": [
    {
     "name": "stdout",
     "output_type": "stream",
     "text": [
      "Deal is out of past sandwitch\n",
      "Avialable Sanwitch list ['chickensandwitch', '', 'Beefsandwitch', 'Eggsandwitch', '', 'cheezsandwitch', '']\n"
     ]
    }
   ],
   "source": [
    "# q 7.9\n",
    "sandwitch_list=[\"chickensandwitch\",\"pastrami\",\"Beefsandwitch\",\"Eggsandwitch\",\"pastrami\",\"cheezsandwitch\",\"pastrami\"]\n",
    "print(\"Deal is out of past sandwitch\")\n",
    "for x in range(len(sandwitch_list)):\n",
    "\n",
    "    # print(sandwitch_list[x])\n",
    "    if sandwitch_list[x] == 'pastrami':\n",
    "        sandwitch_list[x]=''\n",
    "        \n",
    "print(\"Avialable Sanwitch list \"+str(sandwitch_list))"
   ]
  },
  {
   "cell_type": "code",
   "execution_count": 97,
   "metadata": {},
   "outputs": [
    {
     "name": "stdout",
     "output_type": "stream",
     "text": [
      "Enter you dream vication placeq\n",
      "Your dream location is q\n"
     ]
    }
   ],
   "source": [
    "#ex 7.10\n",
    "condition=1\n",
    "while condition:\n",
    "    \n",
    "    dreamVacations = input(\"Enter you dream vication place\")\n",
    "    print(\"Your dream location is \"+str(dreamVacations))\n",
    "    if dreamVacations=='q':\n",
    "        condition=0"
   ]
  },
  {
   "cell_type": "markdown",
   "metadata": {},
   "source": [
    "# CHAPTER : 08"
   ]
  },
  {
   "cell_type": "code",
   "execution_count": 98,
   "metadata": {},
   "outputs": [
    {
     "name": "stdout",
     "output_type": "stream",
     "text": [
      "Name: Sohaib Asif , Subject: AI\n"
     ]
    }
   ],
   "source": [
    "#q 8.1\n",
    "def display_message():\n",
    "    print(\"Name: Sohaib Asif , Subject: AI\")\n",
    "display_message()"
   ]
  },
  {
   "cell_type": "code",
   "execution_count": 100,
   "metadata": {},
   "outputs": [
    {
     "name": "stdout",
     "output_type": "stream",
     "text": [
      "Name: Sohaib Asif , Subject: AI\n",
      "My favourite book is : Ai\n"
     ]
    }
   ],
   "source": [
    "#q 8.2   \n",
    "def Fav_Book(title):\n",
    "    print(\"My favourite book is : \"+title.title())\n",
    "display_message()\n",
    "Fav_Book(\"AI\")"
   ]
  },
  {
   "cell_type": "code",
   "execution_count": 106,
   "metadata": {},
   "outputs": [
    {
     "name": "stdout",
     "output_type": "stream",
     "text": [
      "My shirt size is 15\n"
     ]
    }
   ],
   "source": [
    "#q 8.3\n",
    "def make_shirt(text,size=0):\n",
    "    print(text+\" \"+str(size))\n",
    "make_shirt(\"My shirt size is\",size=15)"
   ]
  },
  {
   "cell_type": "code",
   "execution_count": 110,
   "metadata": {},
   "outputs": [
    {
     "name": "stdout",
     "output_type": "stream",
     "text": [
      "My shirt size is 15\n",
      "i love Ai 15\n"
     ]
    }
   ],
   "source": [
    "# q 8.4\n",
    "def make_shirt(text,size=0):\n",
    "    if text ==\"i love python\":\n",
    "        print(\"Your shirt is to large\")\n",
    "    else:\n",
    "        print(text+\" \"+str(size)) \n",
    "make_shirt(\"My shirt size is\",size=15)\n",
    "make_shirt(\"i love Ai\",size=15)"
   ]
  },
  {
   "cell_type": "code",
   "execution_count": 115,
   "metadata": {},
   "outputs": [
    {
     "name": "stdout",
     "output_type": "stream",
     "text": [
      "Islamabad is in Pakistan\n",
      "Bern is in Switzerland\n"
     ]
    }
   ],
   "source": [
    "# q 8.5\n",
    "def description_city(city,country=' .....'):\n",
    "    print(city+\" is in \"+country)\n",
    "description_city(\"Islamabad\",\"Pakistan\")\n",
    "description_city(\"Bern\", \"Switzerland\")"
   ]
  },
  {
   "cell_type": "code",
   "execution_count": 117,
   "metadata": {},
   "outputs": [
    {
     "name": "stdout",
     "output_type": "stream",
     "text": [
      " \"Islamabad, Pakistan\"\n"
     ]
    }
   ],
   "source": [
    "#ex 8.6\n",
    "def city_country(city,country):\n",
    "    print(\" \\\"{0}, {1}\\\"\".format(city,country))\n",
    "city_country(\"Islamabad\",\"Pakistan\")"
   ]
  },
  {
   "cell_type": "code",
   "execution_count": 124,
   "metadata": {},
   "outputs": [
    {
     "name": "stdout",
     "output_type": "stream",
     "text": [
      "{'Ali': 'Khel jame ga', 0: 'No track found'}\n",
      "{'Shan': 'Char kadam', 0: 'No track found'}\n",
      "{'beethoven': 'ninth symphony', 0: 'No track found'}\n",
      "[{'Ali': 'Khel jame ga', 0: 'No track found'}, {'Shan': 'Char kadam', 0: 'No track found'}, {'beethoven': 'ninth symphony', 0: 'No track found'}]\n"
     ]
    }
   ],
   "source": [
    "# ex 8.7\n",
    "\n",
    "album_list=[]\n",
    "def make_album(artistName,title,track=0):\n",
    "    album_dic={}\n",
    "    album_dic[artistName]=title\n",
    "    album_dic[track]=number_of_track(track)\n",
    "    album_list.append(album_dic)\n",
    "    return album_dic\n",
    "def number_of_track(num=0):\n",
    "    if num !=0:\n",
    "        return num\n",
    "    else:\n",
    "        return \"No track found\"    \n",
    "\n",
    "    \n",
    "\n",
    "print(make_album(\"Ali\",\"Khel jame ga\"))    \n",
    "print(make_album(\"Shan\",\"Char kadam\")) \n",
    "print(make_album(\"beethoven\",\"ninth symphony\")) \n",
    "print(album_list)"
   ]
  },
  {
   "cell_type": "code",
   "execution_count": null,
   "metadata": {},
   "outputs": [],
   "source": []
  },
  {
   "cell_type": "code",
   "execution_count": null,
   "metadata": {},
   "outputs": [],
   "source": []
  }
 ],
 "metadata": {
  "kernelspec": {
   "display_name": "Python 3",
   "language": "python",
   "name": "python3"
  },
  "language_info": {
   "codemirror_mode": {
    "name": "ipython",
    "version": 3
   },
   "file_extension": ".py",
   "mimetype": "text/x-python",
   "name": "python",
   "nbconvert_exporter": "python",
   "pygments_lexer": "ipython3",
   "version": "3.8.5"
  }
 },
 "nbformat": 4,
 "nbformat_minor": 4
}
